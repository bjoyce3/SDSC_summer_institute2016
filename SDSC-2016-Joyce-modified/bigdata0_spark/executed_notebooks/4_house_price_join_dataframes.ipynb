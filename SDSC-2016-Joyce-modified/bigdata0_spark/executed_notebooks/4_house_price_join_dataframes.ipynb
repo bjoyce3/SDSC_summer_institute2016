{
 "cells": [
  {
   "cell_type": "code",
   "execution_count": 1,
   "metadata": {
    "collapsed": true
   },
   "outputs": [],
   "source": [
    "sqlContext = SQLContext(sc)"
   ]
  },
  {
   "cell_type": "markdown",
   "metadata": {},
   "source": [
    "## Load house prices"
   ]
  },
  {
   "cell_type": "code",
   "execution_count": 2,
   "metadata": {
    "collapsed": false
   },
   "outputs": [],
   "source": [
    "text_RDD = sc.textFile(\"/data/houses.txt\")"
   ]
  },
  {
   "cell_type": "code",
   "execution_count": 3,
   "metadata": {
    "collapsed": false
   },
   "outputs": [],
   "source": [
    "def mapper_parse_lines(line):\n",
    "    \"\"\"Parse line into (neighborhoood, price) pair\"\"\"\n",
    "    words = line.split()\n",
    "    return (words[1], float(words[2]), int(words[0]))"
   ]
  },
  {
   "cell_type": "code",
   "execution_count": 4,
   "metadata": {
    "collapsed": false
   },
   "outputs": [],
   "source": [
    "house_prices_RDD = text_RDD.map(mapper_parse_lines)"
   ]
  },
  {
   "cell_type": "code",
   "execution_count": 5,
   "metadata": {
    "collapsed": false
   },
   "outputs": [
    {
     "data": {
      "text/plain": [
       "[(u'Downtown', 400000.0, 3),\n",
       " (u'Downtown', 240000.0, 2),\n",
       " (u'Hilltop', 650000.0, 3)]"
      ]
     },
     "execution_count": 5,
     "metadata": {},
     "output_type": "execute_result"
    }
   ],
   "source": [
    "house_prices_RDD.collect()"
   ]
  },
  {
   "cell_type": "code",
   "execution_count": 6,
   "metadata": {
    "collapsed": true
   },
   "outputs": [],
   "source": [
    "house_prices_df = sqlContext.createDataFrame(house_prices_RDD,\n",
    "                [\"neighborhood\", \"price\", \"bedrooms\"])"
   ]
  },
  {
   "cell_type": "code",
   "execution_count": 7,
   "metadata": {
    "collapsed": false
   },
   "outputs": [
    {
     "name": "stdout",
     "output_type": "stream",
     "text": [
      "+------------+--------+--------+\n",
      "|neighborhood|   price|bedrooms|\n",
      "+------------+--------+--------+\n",
      "|    Downtown|400000.0|       3|\n",
      "|    Downtown|240000.0|       2|\n",
      "|     Hilltop|650000.0|       3|\n",
      "+------------+--------+--------+\n",
      "\n"
     ]
    }
   ],
   "source": [
    "house_prices_df.show()"
   ]
  },
  {
   "cell_type": "code",
   "execution_count": 8,
   "metadata": {
    "collapsed": false
   },
   "outputs": [
    {
     "name": "stdout",
     "output_type": "stream",
     "text": [
      "root\n",
      " |-- neighborhood: string (nullable = true)\n",
      " |-- price: double (nullable = true)\n",
      " |-- bedrooms: long (nullable = true)\n",
      "\n"
     ]
    }
   ],
   "source": [
    "house_prices_df.printSchema()"
   ]
  },
  {
   "cell_type": "markdown",
   "metadata": {},
   "source": [
    "## Load inflation"
   ]
  },
  {
   "cell_type": "code",
   "execution_count": 9,
   "metadata": {
    "collapsed": false
   },
   "outputs": [],
   "source": [
    "inflation_text_RDD = sc.textFile(\"/data/inflation.txt\")"
   ]
  },
  {
   "cell_type": "code",
   "execution_count": 10,
   "metadata": {
    "collapsed": false
   },
   "outputs": [],
   "source": [
    "def mapper_parse__inflation_lines(line):\n",
    "    \"\"\"Parse line into (neighborhoood, inflation) pair\"\"\"\n",
    "    words = line.split()\n",
    "    return (words[0], float(words[1]))"
   ]
  },
  {
   "cell_type": "code",
   "execution_count": 11,
   "metadata": {
    "collapsed": true
   },
   "outputs": [],
   "source": [
    "inflation_RDD = inflation_text_RDD.map(mapper_parse__inflation_lines)"
   ]
  },
  {
   "cell_type": "code",
   "execution_count": 12,
   "metadata": {
    "collapsed": false
   },
   "outputs": [
    {
     "data": {
      "text/plain": [
       "[(u'Downtown', 2.1), (u'Hilltop', 4.5)]"
      ]
     },
     "execution_count": 12,
     "metadata": {},
     "output_type": "execute_result"
    }
   ],
   "source": [
    "inflation_RDD.collect()"
   ]
  },
  {
   "cell_type": "code",
   "execution_count": 13,
   "metadata": {
    "collapsed": true
   },
   "outputs": [],
   "source": [
    "inflation_df = sqlContext.createDataFrame(inflation_RDD,\n",
    "                        [\"neighborhood\", \"inflation\"])"
   ]
  },
  {
   "cell_type": "code",
   "execution_count": 14,
   "metadata": {
    "collapsed": false
   },
   "outputs": [
    {
     "name": "stdout",
     "output_type": "stream",
     "text": [
      "root\n",
      " |-- neighborhood: string (nullable = true)\n",
      " |-- inflation: double (nullable = true)\n",
      "\n"
     ]
    }
   ],
   "source": [
    "inflation_df.printSchema()"
   ]
  },
  {
   "cell_type": "markdown",
   "metadata": {
    "collapsed": true
   },
   "source": [
    "## join"
   ]
  },
  {
   "cell_type": "code",
   "execution_count": 15,
   "metadata": {
    "collapsed": false
   },
   "outputs": [
    {
     "name": "stdout",
     "output_type": "stream",
     "text": [
      "+------------+--------+--------+---------+\n",
      "|neighborhood|   price|bedrooms|inflation|\n",
      "+------------+--------+--------+---------+\n",
      "|    Downtown|400000.0|       3|      2.1|\n",
      "|    Downtown|240000.0|       2|      2.1|\n",
      "|     Hilltop|650000.0|       3|      4.5|\n",
      "+------------+--------+--------+---------+\n",
      "\n"
     ]
    }
   ],
   "source": [
    "house_prices_df.join(inflation_df, \"neighborhood\").show()"
   ]
  },
  {
   "cell_type": "code",
   "execution_count": 16,
   "metadata": {
    "collapsed": false
   },
   "outputs": [],
   "source": [
    "house_prices_with_inflation_df = house_prices_df.join(inflation_df, \"neighborhood\")"
   ]
  },
  {
   "cell_type": "code",
   "execution_count": 17,
   "metadata": {
    "collapsed": false
   },
   "outputs": [],
   "source": [
    "house_prices_nextyear_df = \\\n",
    "house_prices_with_inflation_df.withColumn(\"new_price\",                                      \n",
    "(house_prices_with_inflation_df.price * (1 +\n",
    "        house_prices_with_inflation_df.inflation/100.)))"
   ]
  },
  {
   "cell_type": "code",
   "execution_count": 18,
   "metadata": {
    "collapsed": false
   },
   "outputs": [
    {
     "name": "stdout",
     "output_type": "stream",
     "text": [
      "+------------+--------+--------+---------+------------------+\n",
      "|neighborhood|   price|bedrooms|inflation|         new_price|\n",
      "+------------+--------+--------+---------+------------------+\n",
      "|    Downtown|400000.0|       3|      2.1|408399.99999999994|\n",
      "|    Downtown|240000.0|       2|      2.1|245039.99999999997|\n",
      "|     Hilltop|650000.0|       3|      4.5|          679250.0|\n",
      "+------------+--------+--------+---------+------------------+\n",
      "\n"
     ]
    }
   ],
   "source": [
    "house_prices_nextyear_df.show()"
   ]
  },
  {
   "cell_type": "code",
   "execution_count": 19,
   "metadata": {
    "collapsed": false
   },
   "outputs": [],
   "source": [
    "house_prices_nextyear_df = house_prices_with_inflation_df.withColumn(\"new_price\",                                      \n",
    "    (house_prices_with_inflation_df.price * (1 +\\\n",
    "    house_prices_with_inflation_df.inflation/100.)).cast(\"int\"))"
   ]
  },
  {
   "cell_type": "code",
   "execution_count": 20,
   "metadata": {
    "collapsed": false
   },
   "outputs": [
    {
     "name": "stdout",
     "output_type": "stream",
     "text": [
      "+------------+--------+--------+---------+---------+\n",
      "|neighborhood|   price|bedrooms|inflation|new_price|\n",
      "+------------+--------+--------+---------+---------+\n",
      "|    Downtown|400000.0|       3|      2.1|   408399|\n",
      "|    Downtown|240000.0|       2|      2.1|   245039|\n",
      "|     Hilltop|650000.0|       3|      4.5|   679250|\n",
      "+------------+--------+--------+---------+---------+\n",
      "\n"
     ]
    }
   ],
   "source": [
    "house_prices_nextyear_df.show()"
   ]
  },
  {
   "cell_type": "markdown",
   "metadata": {
    "collapsed": true
   },
   "source": [
    "## reduce"
   ]
  },
  {
   "cell_type": "code",
   "execution_count": 21,
   "metadata": {
    "collapsed": false
   },
   "outputs": [
    {
     "name": "stdout",
     "output_type": "stream",
     "text": [
      "+------------+--------------+\n",
      "|neighborhood|sum(new_price)|\n",
      "+------------+--------------+\n",
      "|    Downtown|        653438|\n",
      "|     Hilltop|        679250|\n",
      "+------------+--------------+\n",
      "\n"
     ]
    }
   ],
   "source": [
    "house_prices_nextyear_df.groupBy(\"neighborhood\").sum(\"new_price\").show()"
   ]
  },
  {
   "cell_type": "markdown",
   "metadata": {},
   "source": [
    "## Exercise\n",
    "\n",
    "Find the **mean** price for next year by number of bedrooms"
   ]
  },
  {
   "cell_type": "code",
   "execution_count": null,
   "metadata": {
    "collapsed": true
   },
   "outputs": [],
   "source": [
    "# %load solution_house_price_join_dataframes.py\n",
    "house_prices_nextyear_df.groupBy(\"bedrooms\").mean(\"new_price\").show()"
   ]
  },
  {
   "cell_type": "code",
   "execution_count": null,
   "metadata": {
    "collapsed": true
   },
   "outputs": [],
   "source": []
  }
 ],
 "metadata": {
  "kernelspec": {
   "display_name": "Python 2",
   "language": "python",
   "name": "python2"
  },
  "language_info": {
   "codemirror_mode": {
    "name": "ipython",
    "version": 2
   },
   "file_extension": ".py",
   "mimetype": "text/x-python",
   "name": "python",
   "nbconvert_exporter": "python",
   "pygments_lexer": "ipython2",
   "version": "2.7.10"
  }
 },
 "nbformat": 4,
 "nbformat_minor": 0
}
